{
 "cells": [
  {
   "cell_type": "code",
   "execution_count": null,
   "metadata": {},
   "outputs": [],
   "source": [
    "import vectorbt as vbt\n",
    "import pandas as pd\n",
    "from datetime import datetime"
   ]
  },
  {
   "cell_type": "code",
   "execution_count": null,
   "metadata": {},
   "outputs": [],
   "source": [
    "def pegar_data_trade(index : int, df : pd.DataFrame) -> datetime:\n",
    "    return df.index[index]"
   ]
  },
  {
   "cell_type": "code",
   "execution_count": null,
   "metadata": {},
   "outputs": [],
   "source": [
    "def pegar_retorno_acumulado(date : datetime, retorno_acumulado : pd.DataFrame) -> float:\n",
    "    return retorno_acumulado.loc[date][['retorno_acumulado']]"
   ]
  },
  {
   "cell_type": "code",
   "execution_count": null,
   "metadata": {},
   "outputs": [],
   "source": [
    "ticker = 'PETR4.SA'\n",
    "data_inicio = '2020-01-15'\n",
    "data_fim = '2021-12-31'\n",
    "intervalo = '1d'"
   ]
  },
  {
   "cell_type": "code",
   "execution_count": null,
   "metadata": {},
   "outputs": [],
   "source": [
    "janela_rapida = 15\n",
    "janela_lenta = 40\n",
    "patrimonio = 10000"
   ]
  },
  {
   "cell_type": "code",
   "execution_count": null,
   "metadata": {},
   "outputs": [],
   "source": [
    "colunas = ['Close', 'Volume']"
   ]
  },
  {
   "cell_type": "code",
   "execution_count": null,
   "metadata": {},
   "outputs": [],
   "source": [
    "df : pd.DataFrame = vbt.YFData.download(ticker, start=data_inicio, end=data_fim, interval='1h').get(colunas)"
   ]
  },
  {
   "cell_type": "code",
   "execution_count": null,
   "metadata": {},
   "outputs": [],
   "source": [
    "mm_rapida = vbt.MA.run(df['Close'], janela_rapida)\n",
    "mm_lenta = vbt.MA.run(df['Close'], janela_lenta)"
   ]
  },
  {
   "cell_type": "code",
   "execution_count": null,
   "metadata": {},
   "outputs": [],
   "source": [
    "entradas = mm_rapida.ma_crossed_above(mm_lenta)\n",
    "saidas = mm_rapida.ma_crossed_below(mm_lenta)"
   ]
  },
  {
   "cell_type": "code",
   "execution_count": null,
   "metadata": {},
   "outputs": [],
   "source": [
    "df['entradas'] = entradas\n",
    "df['saidas'] = saidas"
   ]
  },
  {
   "cell_type": "code",
   "execution_count": null,
   "metadata": {},
   "outputs": [],
   "source": [
    "portfolio = vbt.Portfolio.from_signals(df['Close'], entradas, saidas, init_cash=patrimonio)"
   ]
  },
  {
   "cell_type": "code",
   "execution_count": null,
   "metadata": {},
   "outputs": [],
   "source": [
    "retorno_acumulado = pd.DataFrame()\n",
    "retorno_acumulado['retorno_acumulado'] = portfolio.cumulative_returns()"
   ]
  },
  {
   "cell_type": "code",
   "execution_count": null,
   "metadata": {},
   "outputs": [],
   "source": [
    "trades : pd.DataFrame = portfolio.get_trades().records"
   ]
  },
  {
   "cell_type": "code",
   "execution_count": null,
   "metadata": {},
   "outputs": [],
   "source": [
    "trades['trade_entrada'] = trades.apply(lambda x: pegar_data_trade(int(x['entry_idx']), df), axis = 1)"
   ]
  },
  {
   "cell_type": "code",
   "execution_count": null,
   "metadata": {},
   "outputs": [],
   "source": [
    "trades['trade_saida'] = trades.apply(lambda x: pegar_data_trade(int(x['exit_idx']), df), axis = 1)"
   ]
  },
  {
   "cell_type": "code",
   "execution_count": null,
   "metadata": {},
   "outputs": [],
   "source": [
    "trades_view = trades[['trade_entrada', 'trade_saida', 'size', 'exit_price', 'pnl', 'return']]"
   ]
  },
  {
   "cell_type": "code",
   "execution_count": null,
   "metadata": {},
   "outputs": [],
   "source": [
    "trades_view['retorno_acumulado'] = trades_view.apply(lambda x: pegar_retorno_acumulado(x['trade_saida'], retorno_acumulado), axis = 1)"
   ]
  },
  {
   "cell_type": "code",
   "execution_count": null,
   "metadata": {},
   "outputs": [],
   "source": [
    "portfolio.plot_drawdowns().write_image(f'./drawdowns/{ticker}.jpeg')\n",
    "portfolio.plot_cum_returns().write_image(f'./retorno_acumulado/{ticker}.jpeg')\n",
    "portfolio.plot_orders().write_image(f'./trades/{ticker}.jpeg')"
   ]
  },
  {
   "cell_type": "code",
   "execution_count": null,
   "metadata": {},
   "outputs": [],
   "source": [
    "data_texto = '%d/%m/%Y %H:%M:S'"
   ]
  },
  {
   "cell_type": "code",
   "execution_count": null,
   "metadata": {},
   "outputs": [],
   "source": [
    "trades_view['trade_entrada'] = trades_view['trade_entrada'].apply(lambda x: x.strftime(data_texto))\n",
    "trades_view['trade_saida'] = trades_view['trade_saida'].apply(lambda x: x.strftime(data_texto))"
   ]
  },
  {
   "cell_type": "code",
   "execution_count": null,
   "metadata": {},
   "outputs": [],
   "source": [
    "trades_view.to_excel(f'{ticker}.xlsx', index = False)"
   ]
  }
 ],
 "metadata": {
  "interpreter": {
   "hash": "8e80551cd5a3f8ec16fade3ff0d3db93db69c0501cf275aeebb47c4454d40ca4"
  },
  "kernelspec": {
   "display_name": "Python 3.8.10 64-bit ('workana-backtest-IFADyrHB': pipenv)",
   "language": "python",
   "name": "python3"
  },
  "language_info": {
   "codemirror_mode": {
    "name": "ipython",
    "version": 3
   },
   "file_extension": ".py",
   "mimetype": "text/x-python",
   "name": "python",
   "nbconvert_exporter": "python",
   "pygments_lexer": "ipython3",
   "version": "3.8.10"
  },
  "orig_nbformat": 4
 },
 "nbformat": 4,
 "nbformat_minor": 2
}
